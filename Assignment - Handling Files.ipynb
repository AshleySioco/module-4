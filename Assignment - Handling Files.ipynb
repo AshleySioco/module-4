{
 "cells": [
  {
   "cell_type": "markdown",
   "id": "40a4cec3-5075-4121-88a1-44ef2c97c266",
   "metadata": {},
   "source": [
    "# Assignment: Handling Files\n",
    "\n",
    "This assignment serves as a general synthesis for Module 4. It also serves as your introduction to using files and to coding Python _outside_ of Jupyter.  \n",
    "\n",
    "Please follow all instructions precisely. This is especially important in this assignment, which will ask you to submit a `.py` file instead of a `.ipynb` file."
   ]
  },
  {
   "cell_type": "markdown",
   "id": "d5e7b062-4848-460f-a311-f4ca3c423ddd",
   "metadata": {},
   "source": [
    "## Context\n",
    "\n",
    "**CoffeePython** is a specialty coffee place along Katipunan. It commissioned students to build a crude character-mode terminal based on Python and it ran pretty well.  \n",
    "\n",
    "Due to the Covid-19 Pandemic that forced businesses to shut down, however, it had to pivot its business to online deliveries. The direction, however, is to make sure that the current Point-of-Sale (POS) system being used in the branches still works. There are some missing pieces that need to be reprogrammed again.  \n",
    "\n",
    "CoffeePython has the following products:"
   ]
  },
  {
   "cell_type": "code",
   "execution_count": null,
   "id": "f5740def-08bd-4bfa-8179-da9d5c8a7ff3",
   "metadata": {},
   "outputs": [],
   "source": [
    "# NON-INTERACTIVE CODE CELL.\n",
    "# FOR DEMONSTRATION PURPOSES ONLY. DO NOT TOUCH.\n",
    "\n",
    "products = {\n",
    "    \"americano\":{\"name\":\"Americano\",\"price\":150.00},\n",
    "    \"brewedcoffee\":{\"name\":\"Brewed Coffee\",\"price\":110.00},\n",
    "    \"cappuccino\":{\"name\":\"Cappuccino\",\"price\":170.00},\n",
    "    \"dalgona\":{\"name\":\"Dalgona\",\"price\":170.00},\n",
    "    \"espresso\":{\"name\":\"Espresso\",\"price\":140.00},\n",
    "    \"frappuccino\":{\"name\":\"Frappuccino\",\"price\":170.00},\n",
    "}"
   ]
  }
 ],
 "metadata": {
  "kernelspec": {
   "display_name": "Python 3 (ipykernel)",
   "language": "python",
   "name": "python3"
  },
  "language_info": {
   "codemirror_mode": {
    "name": "ipython",
    "version": 3
   },
   "file_extension": ".py",
   "mimetype": "text/x-python",
   "name": "python",
   "nbconvert_exporter": "python",
   "pygments_lexer": "ipython3",
   "version": "3.9.5"
  }
 },
 "nbformat": 4,
 "nbformat_minor": 5
}
